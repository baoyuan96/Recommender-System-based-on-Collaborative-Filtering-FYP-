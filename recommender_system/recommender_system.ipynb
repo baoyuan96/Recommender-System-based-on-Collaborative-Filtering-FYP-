{
 "cells": [
  {
   "cell_type": "markdown",
   "id": "9f77b64e",
   "metadata": {},
   "source": [
    "# User-Based Collaborative Filtering Recommender System"
   ]
  },
  {
   "cell_type": "code",
   "execution_count": 1,
   "id": "1b0ceee1",
   "metadata": {},
   "outputs": [],
   "source": [
    "import pickle\n",
    "import numpy as np               # Python library for numerical computation (that is basically used to perform operations on arrays and matrices)\n",
    "import pandas as pd              # Python library for easy to use data structures\n",
    "import scipy as sp               # Python library for numerical algorithms\n",
    "from matplotlib import pyplot    # Python library for plotting data\n",
    "import matplotlib.pyplot as plt  # Python library to plot data\n",
    "import seaborn as sns            # Python library based on matplotlib \n",
    "import missingno as msno         # Python library to detect missing numbers\n",
    "from scipy.sparse import csr_matrix\n",
    "from sklearn.neighbors import NearestNeighbors"
   ]
  },
  {
   "cell_type": "code",
   "execution_count": 2,
   "id": "194d2689",
   "metadata": {},
   "outputs": [],
   "source": [
    "pd.set_option('display.float_format', lambda x: '%.3f' % x)"
   ]
  },
  {
   "cell_type": "code",
   "execution_count": 3,
   "id": "9d82b8cb",
   "metadata": {},
   "outputs": [
    {
     "data": {
      "text/html": [
       "<div>\n",
       "<style scoped>\n",
       "    .dataframe tbody tr th:only-of-type {\n",
       "        vertical-align: middle;\n",
       "    }\n",
       "\n",
       "    .dataframe tbody tr th {\n",
       "        vertical-align: top;\n",
       "    }\n",
       "\n",
       "    .dataframe thead th {\n",
       "        text-align: right;\n",
       "    }\n",
       "</style>\n",
       "<table border=\"1\" class=\"dataframe\">\n",
       "  <thead>\n",
       "    <tr style=\"text-align: right;\">\n",
       "      <th></th>\n",
       "      <th>Hotel_Id</th>\n",
       "      <th>Property_Name</th>\n",
       "      <th>Review_Title</th>\n",
       "      <th>Review_Text</th>\n",
       "      <th>Location_of _The _Reviewer</th>\n",
       "      <th>Date_Of_Review</th>\n",
       "    </tr>\n",
       "  </thead>\n",
       "  <tbody>\n",
       "    <tr>\n",
       "      <th>0</th>\n",
       "      <td>1.000</td>\n",
       "      <td>Apex London Wall Hotel</td>\n",
       "      <td>Ottima qualit‡ prezzo</td>\n",
       "      <td>Siamo stati a Londra per un week end ed abbiamo alloggiato in questo ottimo Hotel prenotato da a...</td>\n",
       "      <td>Casale Monferrato, Italy</td>\n",
       "      <td>10/20/2012</td>\n",
       "    </tr>\n",
       "    <tr>\n",
       "      <th>1</th>\n",
       "      <td>2.000</td>\n",
       "      <td>Corinthia Hotel London</td>\n",
       "      <td>By far, my best hotel in the world</td>\n",
       "      <td>I had a pleasure of staying in this hotel for 7 nights recently. This hotel was perfect in every...</td>\n",
       "      <td>Savannah, Georgia</td>\n",
       "      <td>3/23/2016</td>\n",
       "    </tr>\n",
       "    <tr>\n",
       "      <th>2</th>\n",
       "      <td>3.000</td>\n",
       "      <td>The Savoy</td>\n",
       "      <td>First visit to the American Bar at the Savoy</td>\n",
       "      <td>A very lovely first visit to this iconic hotel bar! | Wonderful service, without being intrusive...</td>\n",
       "      <td>London</td>\n",
       "      <td>7/30/2013</td>\n",
       "    </tr>\n",
       "    <tr>\n",
       "      <th>3</th>\n",
       "      <td>4.000</td>\n",
       "      <td>Rhodes Hotel</td>\n",
       "      <td>Nice stay</td>\n",
       "      <td>3 of us stayed at the Rhodes Hotel for 4 nights, its a great location for taking the Paddington ...</td>\n",
       "      <td>Maui, Hawaii</td>\n",
       "      <td>06/02/2012</td>\n",
       "    </tr>\n",
       "    <tr>\n",
       "      <th>4</th>\n",
       "      <td>5.000</td>\n",
       "      <td>The Savoy</td>\n",
       "      <td>Perfection</td>\n",
       "      <td>Form the moment we arrived until we left we experienced absolute perfection in service excellanc...</td>\n",
       "      <td>London, United Kingdom</td>\n",
       "      <td>11/24/2017</td>\n",
       "    </tr>\n",
       "  </tbody>\n",
       "</table>\n",
       "</div>"
      ],
      "text/plain": [
       "   Hotel_Id           Property_Name  \\\n",
       "0     1.000  Apex London Wall Hotel   \n",
       "1     2.000  Corinthia Hotel London   \n",
       "2     3.000               The Savoy   \n",
       "3     4.000            Rhodes Hotel   \n",
       "4     5.000               The Savoy   \n",
       "\n",
       "                                   Review_Title  \\\n",
       "0                         Ottima qualit‡ prezzo   \n",
       "1            By far, my best hotel in the world   \n",
       "2  First visit to the American Bar at the Savoy   \n",
       "3                                     Nice stay   \n",
       "4                                    Perfection   \n",
       "\n",
       "                                                                                           Review_Text  \\\n",
       "0  Siamo stati a Londra per un week end ed abbiamo alloggiato in questo ottimo Hotel prenotato da a...   \n",
       "1  I had a pleasure of staying in this hotel for 7 nights recently. This hotel was perfect in every...   \n",
       "2  A very lovely first visit to this iconic hotel bar! | Wonderful service, without being intrusive...   \n",
       "3  3 of us stayed at the Rhodes Hotel for 4 nights, its a great location for taking the Paddington ...   \n",
       "4  Form the moment we arrived until we left we experienced absolute perfection in service excellanc...   \n",
       "\n",
       "  Location_of _The _Reviewer Date_Of_Review  \n",
       "0   Casale Monferrato, Italy     10/20/2012  \n",
       "1          Savannah, Georgia      3/23/2016  \n",
       "2                     London      7/30/2013  \n",
       "3               Maui, Hawaii     06/02/2012  \n",
       "4     London, United Kingdom     11/24/2017  "
      ]
     },
     "execution_count": 3,
     "metadata": {},
     "output_type": "execute_result"
    }
   ],
   "source": [
    "pd.set_option('display.max_colwidth',100)\n",
    "\n",
    "# This data is available on open online source. the original data contains around 100000 data. However, for simplicity of implementation I used first 10000 data\n",
    "\n",
    "# To read data from CSV file which is used for this Hotel recommendation system\n",
    "data = pd.read_csv('Hotel_Reviews.csv')\n",
    "\n",
    "# To show the data of CSV file\n",
    "data.head()"
   ]
  },
  {
   "cell_type": "code",
   "execution_count": 4,
   "id": "d31ae6e8",
   "metadata": {},
   "outputs": [
    {
     "data": {
      "text/plain": [
       "Index(['Hotel_Id', 'Property_Name', 'Review_Title', 'Review_Text',\n",
       "       'Location_of _The _Reviewer', 'Date_Of_Review'],\n",
       "      dtype='object')"
      ]
     },
     "execution_count": 4,
     "metadata": {},
     "output_type": "execute_result"
    }
   ],
   "source": [
    "# This command will indicate list of all columns used in CSV \n",
    "data.columns"
   ]
  },
  {
   "cell_type": "code",
   "execution_count": 5,
   "id": "8850fd89",
   "metadata": {},
   "outputs": [
    {
     "data": {
      "text/html": [
       "<div>\n",
       "<style scoped>\n",
       "    .dataframe tbody tr th:only-of-type {\n",
       "        vertical-align: middle;\n",
       "    }\n",
       "\n",
       "    .dataframe tbody tr th {\n",
       "        vertical-align: top;\n",
       "    }\n",
       "\n",
       "    .dataframe thead th {\n",
       "        text-align: right;\n",
       "    }\n",
       "</style>\n",
       "<table border=\"1\" class=\"dataframe\">\n",
       "  <thead>\n",
       "    <tr style=\"text-align: right;\">\n",
       "      <th></th>\n",
       "      <th>Hotel_Id</th>\n",
       "    </tr>\n",
       "  </thead>\n",
       "  <tbody>\n",
       "    <tr>\n",
       "      <th>count</th>\n",
       "      <td>9999.000</td>\n",
       "    </tr>\n",
       "    <tr>\n",
       "      <th>mean</th>\n",
       "      <td>5000.000</td>\n",
       "    </tr>\n",
       "    <tr>\n",
       "      <th>std</th>\n",
       "      <td>2886.607</td>\n",
       "    </tr>\n",
       "    <tr>\n",
       "      <th>min</th>\n",
       "      <td>1.000</td>\n",
       "    </tr>\n",
       "    <tr>\n",
       "      <th>25%</th>\n",
       "      <td>2500.500</td>\n",
       "    </tr>\n",
       "    <tr>\n",
       "      <th>50%</th>\n",
       "      <td>5000.000</td>\n",
       "    </tr>\n",
       "    <tr>\n",
       "      <th>75%</th>\n",
       "      <td>7499.500</td>\n",
       "    </tr>\n",
       "    <tr>\n",
       "      <th>max</th>\n",
       "      <td>9999.000</td>\n",
       "    </tr>\n",
       "  </tbody>\n",
       "</table>\n",
       "</div>"
      ],
      "text/plain": [
       "       Hotel_Id\n",
       "count  9999.000\n",
       "mean   5000.000\n",
       "std    2886.607\n",
       "min       1.000\n",
       "25%    2500.500\n",
       "50%    5000.000\n",
       "75%    7499.500\n",
       "max    9999.000"
      ]
     },
     "execution_count": 5,
     "metadata": {},
     "output_type": "execute_result"
    }
   ],
   "source": [
    "# This command provides total descriptions of CSV\n",
    "data.describe()"
   ]
  },
  {
   "cell_type": "code",
   "execution_count": 6,
   "id": "aff2d6eb",
   "metadata": {},
   "outputs": [
    {
     "data": {
      "text/html": [
       "<div>\n",
       "<style scoped>\n",
       "    .dataframe tbody tr th:only-of-type {\n",
       "        vertical-align: middle;\n",
       "    }\n",
       "\n",
       "    .dataframe tbody tr th {\n",
       "        vertical-align: top;\n",
       "    }\n",
       "\n",
       "    .dataframe thead th {\n",
       "        text-align: right;\n",
       "    }\n",
       "</style>\n",
       "<table border=\"1\" class=\"dataframe\">\n",
       "  <thead>\n",
       "    <tr style=\"text-align: right;\">\n",
       "      <th></th>\n",
       "      <th>Hotel_Id</th>\n",
       "      <th>Property_Name</th>\n",
       "      <th>Review_Title</th>\n",
       "      <th>Review_Text</th>\n",
       "      <th>Location_of _The _Reviewer</th>\n",
       "      <th>Date_Of_Review</th>\n",
       "    </tr>\n",
       "  </thead>\n",
       "  <tbody>\n",
       "    <tr>\n",
       "      <th>count</th>\n",
       "      <td>9999.000</td>\n",
       "      <td>9997</td>\n",
       "      <td>9997</td>\n",
       "      <td>9997</td>\n",
       "      <td>8575</td>\n",
       "      <td>9996</td>\n",
       "    </tr>\n",
       "    <tr>\n",
       "      <th>unique</th>\n",
       "      <td>NaN</td>\n",
       "      <td>20</td>\n",
       "      <td>8674</td>\n",
       "      <td>9997</td>\n",
       "      <td>3297</td>\n",
       "      <td>3045</td>\n",
       "    </tr>\n",
       "    <tr>\n",
       "      <th>top</th>\n",
       "      <td>NaN</td>\n",
       "      <td>The Savoy</td>\n",
       "      <td>Excellent</td>\n",
       "      <td>excellent and elegant experience, very freindly staff. nice location quiet. very clean and relat...</td>\n",
       "      <td>London, United Kingdom</td>\n",
       "      <td>10/03/2018</td>\n",
       "    </tr>\n",
       "    <tr>\n",
       "      <th>freq</th>\n",
       "      <td>NaN</td>\n",
       "      <td>1995</td>\n",
       "      <td>42</td>\n",
       "      <td>1</td>\n",
       "      <td>722</td>\n",
       "      <td>19</td>\n",
       "    </tr>\n",
       "    <tr>\n",
       "      <th>mean</th>\n",
       "      <td>5000.000</td>\n",
       "      <td>NaN</td>\n",
       "      <td>NaN</td>\n",
       "      <td>NaN</td>\n",
       "      <td>NaN</td>\n",
       "      <td>NaN</td>\n",
       "    </tr>\n",
       "    <tr>\n",
       "      <th>std</th>\n",
       "      <td>2886.607</td>\n",
       "      <td>NaN</td>\n",
       "      <td>NaN</td>\n",
       "      <td>NaN</td>\n",
       "      <td>NaN</td>\n",
       "      <td>NaN</td>\n",
       "    </tr>\n",
       "    <tr>\n",
       "      <th>min</th>\n",
       "      <td>1.000</td>\n",
       "      <td>NaN</td>\n",
       "      <td>NaN</td>\n",
       "      <td>NaN</td>\n",
       "      <td>NaN</td>\n",
       "      <td>NaN</td>\n",
       "    </tr>\n",
       "    <tr>\n",
       "      <th>25%</th>\n",
       "      <td>2500.500</td>\n",
       "      <td>NaN</td>\n",
       "      <td>NaN</td>\n",
       "      <td>NaN</td>\n",
       "      <td>NaN</td>\n",
       "      <td>NaN</td>\n",
       "    </tr>\n",
       "    <tr>\n",
       "      <th>50%</th>\n",
       "      <td>5000.000</td>\n",
       "      <td>NaN</td>\n",
       "      <td>NaN</td>\n",
       "      <td>NaN</td>\n",
       "      <td>NaN</td>\n",
       "      <td>NaN</td>\n",
       "    </tr>\n",
       "    <tr>\n",
       "      <th>75%</th>\n",
       "      <td>7499.500</td>\n",
       "      <td>NaN</td>\n",
       "      <td>NaN</td>\n",
       "      <td>NaN</td>\n",
       "      <td>NaN</td>\n",
       "      <td>NaN</td>\n",
       "    </tr>\n",
       "    <tr>\n",
       "      <th>max</th>\n",
       "      <td>9999.000</td>\n",
       "      <td>NaN</td>\n",
       "      <td>NaN</td>\n",
       "      <td>NaN</td>\n",
       "      <td>NaN</td>\n",
       "      <td>NaN</td>\n",
       "    </tr>\n",
       "  </tbody>\n",
       "</table>\n",
       "</div>"
      ],
      "text/plain": [
       "        Hotel_Id Property_Name Review_Title  \\\n",
       "count   9999.000          9997         9997   \n",
       "unique       NaN            20         8674   \n",
       "top          NaN     The Savoy    Excellent   \n",
       "freq         NaN          1995           42   \n",
       "mean    5000.000           NaN          NaN   \n",
       "std     2886.607           NaN          NaN   \n",
       "min        1.000           NaN          NaN   \n",
       "25%     2500.500           NaN          NaN   \n",
       "50%     5000.000           NaN          NaN   \n",
       "75%     7499.500           NaN          NaN   \n",
       "max     9999.000           NaN          NaN   \n",
       "\n",
       "                                                                                                Review_Text  \\\n",
       "count                                                                                                  9997   \n",
       "unique                                                                                                 9997   \n",
       "top     excellent and elegant experience, very freindly staff. nice location quiet. very clean and relat...   \n",
       "freq                                                                                                      1   \n",
       "mean                                                                                                    NaN   \n",
       "std                                                                                                     NaN   \n",
       "min                                                                                                     NaN   \n",
       "25%                                                                                                     NaN   \n",
       "50%                                                                                                     NaN   \n",
       "75%                                                                                                     NaN   \n",
       "max                                                                                                     NaN   \n",
       "\n",
       "       Location_of _The _Reviewer Date_Of_Review  \n",
       "count                        8575           9996  \n",
       "unique                       3297           3045  \n",
       "top        London, United Kingdom     10/03/2018  \n",
       "freq                          722             19  \n",
       "mean                          NaN            NaN  \n",
       "std                           NaN            NaN  \n",
       "min                           NaN            NaN  \n",
       "25%                           NaN            NaN  \n",
       "50%                           NaN            NaN  \n",
       "75%                           NaN            NaN  \n",
       "max                           NaN            NaN  "
      ]
     },
     "execution_count": 6,
     "metadata": {},
     "output_type": "execute_result"
    }
   ],
   "source": [
    "data.describe(include='all')"
   ]
  },
  {
   "cell_type": "code",
   "execution_count": 7,
   "id": "a98f4c99",
   "metadata": {},
   "outputs": [
    {
     "name": "stdout",
     "output_type": "stream",
     "text": [
      "17331\n"
     ]
    }
   ],
   "source": [
    "# Any dataset contains duplicate data. To calculate the aggregation of duplicate data values\n",
    "\n",
    "print(sum(data.duplicated()))"
   ]
  },
  {
   "cell_type": "code",
   "execution_count": 8,
   "id": "8b84f552",
   "metadata": {},
   "outputs": [
    {
     "data": {
      "text/plain": [
       "<AxesSubplot:>"
      ]
     },
     "execution_count": 8,
     "metadata": {},
     "output_type": "execute_result"
    },
    {
     "data": {
      "image/png": "[encoded data removed]",
      "text/plain": [
       "<Figure size 1800x720 with 2 Axes>"
      ]
     },
     "metadata": {
      "needs_background": "light"
     },
     "output_type": "display_data"
    }
   ],
   "source": [
    "# Any data obtained is not pure. some of the features have missing values.\n",
    "#To check the missing data from the dataset\n",
    "\n",
    "msno.matrix(data)"
   ]
  },
  {
   "cell_type": "code",
   "execution_count": 9,
   "id": "9c8b5ff6",
   "metadata": {},
   "outputs": [],
   "source": [
    "# We do not need duplicates of the data. This command gets rid the duplicate data\n",
    "data = data.drop_duplicates()"
   ]
  },
  {
   "cell_type": "code",
   "execution_count": 10,
   "id": "a3e4518f",
   "metadata": {},
   "outputs": [
    {
     "name": "stdout",
     "output_type": "stream",
     "text": [
      "0\n"
     ]
    }
   ],
   "source": [
    "# After dropping the duplicate values we need to check the sum of the duplicates in our dataset\n",
    "print(sum(data.duplicated())) "
   ]
  },
  {
   "cell_type": "code",
   "execution_count": 11,
   "id": "749d9f9d",
   "metadata": {},
   "outputs": [],
   "source": [
    "# Easiest way to handle the missing value is by skipping/Dropping that missing value data\n",
    "# below command will drop the missing values and will provide the pure data\n",
    "\n",
    "data = data.dropna()"
   ]
  },
  {
   "cell_type": "code",
   "execution_count": 12,
   "id": "a1628ffa",
   "metadata": {},
   "outputs": [
    {
     "data": {
      "text/html": [
       "<div>\n",
       "<style scoped>\n",
       "    .dataframe tbody tr th:only-of-type {\n",
       "        vertical-align: middle;\n",
       "    }\n",
       "\n",
       "    .dataframe tbody tr th {\n",
       "        vertical-align: top;\n",
       "    }\n",
       "\n",
       "    .dataframe thead th {\n",
       "        text-align: right;\n",
       "    }\n",
       "</style>\n",
       "<table border=\"1\" class=\"dataframe\">\n",
       "  <thead>\n",
       "    <tr style=\"text-align: right;\">\n",
       "      <th></th>\n",
       "      <th>Hotel_Id</th>\n",
       "    </tr>\n",
       "  </thead>\n",
       "  <tbody>\n",
       "    <tr>\n",
       "      <th>count</th>\n",
       "      <td>8575.000</td>\n",
       "    </tr>\n",
       "    <tr>\n",
       "      <th>mean</th>\n",
       "      <td>4992.283</td>\n",
       "    </tr>\n",
       "    <tr>\n",
       "      <th>std</th>\n",
       "      <td>2887.016</td>\n",
       "    </tr>\n",
       "    <tr>\n",
       "      <th>min</th>\n",
       "      <td>1.000</td>\n",
       "    </tr>\n",
       "    <tr>\n",
       "      <th>25%</th>\n",
       "      <td>2491.500</td>\n",
       "    </tr>\n",
       "    <tr>\n",
       "      <th>50%</th>\n",
       "      <td>4984.000</td>\n",
       "    </tr>\n",
       "    <tr>\n",
       "      <th>75%</th>\n",
       "      <td>7501.500</td>\n",
       "    </tr>\n",
       "    <tr>\n",
       "      <th>max</th>\n",
       "      <td>9999.000</td>\n",
       "    </tr>\n",
       "  </tbody>\n",
       "</table>\n",
       "</div>"
      ],
      "text/plain": [
       "       Hotel_Id\n",
       "count  8575.000\n",
       "mean   4992.283\n",
       "std    2887.016\n",
       "min       1.000\n",
       "25%    2491.500\n",
       "50%    4984.000\n",
       "75%    7501.500\n",
       "max    9999.000"
      ]
     },
     "execution_count": 12,
     "metadata": {},
     "output_type": "execute_result"
    }
   ],
   "source": [
    "data.describe()"
   ]
  },
  {
   "cell_type": "markdown",
   "id": "f4fbdb6c",
   "metadata": {},
   "source": [
    "## Data Visualisation"
   ]
  },
  {
   "cell_type": "code",
   "execution_count": 13,
   "id": "43ee4e9a",
   "metadata": {},
   "outputs": [],
   "source": [
    "#sns.distplot(data['Review_Rating']);"
   ]
  },
  {
   "cell_type": "code",
   "execution_count": 14,
   "id": "966c2324",
   "metadata": {},
   "outputs": [
    {
     "data": {
      "text/plain": [
       "<AxesSubplot:>"
      ]
     },
     "execution_count": 14,
     "metadata": {},
     "output_type": "execute_result"
    },
    {
     "data": {
      "image/png": "[encoded data removed]",
      "text/plain": [
       "<Figure size 576x432 with 1 Axes>"
      ]
     },
     "metadata": {
      "needs_background": "light"
     },
     "output_type": "display_data"
    }
   ],
   "source": [
    "# The below graph provides visualization about which hotel has got maximum number of reviews \n",
    "# This provides top ten best hotels\n",
    "\n",
    "Hotel_counts = data.Property_Name.value_counts()\n",
    "Hotel_counts[:10].plot(kind='bar',figsize=(8,6))"
   ]
  },
  {
   "cell_type": "code",
   "execution_count": 15,
   "id": "74a78851",
   "metadata": {},
   "outputs": [
    {
     "data": {
      "text/plain": [
       "<AxesSubplot:>"
      ]
     },
     "execution_count": 15,
     "metadata": {},
     "output_type": "execute_result"
    },
    {
     "data": {
      "image/png": "[encoded data removed]",
      "text/plain": [
       "<Figure size 576x432 with 1 Axes>"
      ]
     },
     "metadata": {
      "needs_background": "light"
     },
     "output_type": "display_data"
    }
   ],
   "source": [
    "# The below bar graph provides analysis of data according to the date\n",
    "\n",
    "Review_Date_count = data.Date_Of_Review.value_counts()\n",
    "Review_Date_count[:10].plot(kind='bar', figsize = ( 8, 6))"
   ]
  },
  {
   "cell_type": "code",
   "execution_count": 16,
   "id": "92f530b1",
   "metadata": {},
   "outputs": [
    {
     "data": {
      "text/html": [
       "<div>\n",
       "<style scoped>\n",
       "    .dataframe tbody tr th:only-of-type {\n",
       "        vertical-align: middle;\n",
       "    }\n",
       "\n",
       "    .dataframe tbody tr th {\n",
       "        vertical-align: top;\n",
       "    }\n",
       "\n",
       "    .dataframe thead th {\n",
       "        text-align: right;\n",
       "    }\n",
       "</style>\n",
       "<table border=\"1\" class=\"dataframe\">\n",
       "  <thead>\n",
       "    <tr style=\"text-align: right;\">\n",
       "      <th></th>\n",
       "      <th>User_Id</th>\n",
       "      <th>Hotel_Id</th>\n",
       "      <th>rating</th>\n",
       "      <th>timestamp</th>\n",
       "    </tr>\n",
       "  </thead>\n",
       "  <tbody>\n",
       "    <tr>\n",
       "      <th>0</th>\n",
       "      <td>1</td>\n",
       "      <td>31</td>\n",
       "      <td>2.500</td>\n",
       "      <td>1260759144</td>\n",
       "    </tr>\n",
       "    <tr>\n",
       "      <th>1</th>\n",
       "      <td>1</td>\n",
       "      <td>1029</td>\n",
       "      <td>3.000</td>\n",
       "      <td>1260759179</td>\n",
       "    </tr>\n",
       "    <tr>\n",
       "      <th>2</th>\n",
       "      <td>1</td>\n",
       "      <td>1061</td>\n",
       "      <td>3.000</td>\n",
       "      <td>1260759182</td>\n",
       "    </tr>\n",
       "    <tr>\n",
       "      <th>3</th>\n",
       "      <td>1</td>\n",
       "      <td>1129</td>\n",
       "      <td>2.000</td>\n",
       "      <td>1260759185</td>\n",
       "    </tr>\n",
       "    <tr>\n",
       "      <th>4</th>\n",
       "      <td>1</td>\n",
       "      <td>1172</td>\n",
       "      <td>4.000</td>\n",
       "      <td>1260759205</td>\n",
       "    </tr>\n",
       "  </tbody>\n",
       "</table>\n",
       "</div>"
      ],
      "text/plain": [
       "   User_Id  Hotel_Id  rating   timestamp\n",
       "0        1        31   2.500  1260759144\n",
       "1        1      1029   3.000  1260759179\n",
       "2        1      1061   3.000  1260759182\n",
       "3        1      1129   2.000  1260759185\n",
       "4        1      1172   4.000  1260759205"
      ]
     },
     "execution_count": 16,
     "metadata": {},
     "output_type": "execute_result"
    }
   ],
   "source": [
    "# Another CSV file that provides only ratings according to the User_Id, and Hotel_Id\n",
    "\n",
    "ratings = pd.read_csv('Ratings.csv')\n",
    "ratings.head()"
   ]
  },
  {
   "cell_type": "code",
   "execution_count": 17,
   "id": "e4481ec1",
   "metadata": {},
   "outputs": [
    {
     "data": {
      "text/html": [
       "<div>\n",
       "<style scoped>\n",
       "    .dataframe tbody tr th:only-of-type {\n",
       "        vertical-align: middle;\n",
       "    }\n",
       "\n",
       "    .dataframe tbody tr th {\n",
       "        vertical-align: top;\n",
       "    }\n",
       "\n",
       "    .dataframe thead th {\n",
       "        text-align: right;\n",
       "    }\n",
       "</style>\n",
       "<table border=\"1\" class=\"dataframe\">\n",
       "  <thead>\n",
       "    <tr style=\"text-align: right;\">\n",
       "      <th></th>\n",
       "      <th>Hotel_Id</th>\n",
       "      <th>Property_Name</th>\n",
       "      <th>Review_Title</th>\n",
       "      <th>Review_Text</th>\n",
       "      <th>Location_of _The _Reviewer</th>\n",
       "      <th>Date_Of_Review</th>\n",
       "      <th>User_Id</th>\n",
       "      <th>rating</th>\n",
       "      <th>timestamp</th>\n",
       "    </tr>\n",
       "  </thead>\n",
       "  <tbody>\n",
       "    <tr>\n",
       "      <th>0</th>\n",
       "      <td>1.000</td>\n",
       "      <td>Apex London Wall Hotel</td>\n",
       "      <td>Ottima qualit‡ prezzo</td>\n",
       "      <td>Siamo stati a Londra per un week end ed abbiamo alloggiato in questo ottimo Hotel prenotato da a...</td>\n",
       "      <td>Casale Monferrato, Italy</td>\n",
       "      <td>10/20/2012</td>\n",
       "      <td>7</td>\n",
       "      <td>3.000</td>\n",
       "      <td>851866703</td>\n",
       "    </tr>\n",
       "    <tr>\n",
       "      <th>1</th>\n",
       "      <td>1.000</td>\n",
       "      <td>Apex London Wall Hotel</td>\n",
       "      <td>Ottima qualit‡ prezzo</td>\n",
       "      <td>Siamo stati a Londra per un week end ed abbiamo alloggiato in questo ottimo Hotel prenotato da a...</td>\n",
       "      <td>Casale Monferrato, Italy</td>\n",
       "      <td>10/20/2012</td>\n",
       "      <td>9</td>\n",
       "      <td>4.000</td>\n",
       "      <td>938629179</td>\n",
       "    </tr>\n",
       "    <tr>\n",
       "      <th>2</th>\n",
       "      <td>1.000</td>\n",
       "      <td>Apex London Wall Hotel</td>\n",
       "      <td>Ottima qualit‡ prezzo</td>\n",
       "      <td>Siamo stati a Londra per un week end ed abbiamo alloggiato in questo ottimo Hotel prenotato da a...</td>\n",
       "      <td>Casale Monferrato, Italy</td>\n",
       "      <td>10/20/2012</td>\n",
       "      <td>13</td>\n",
       "      <td>5.000</td>\n",
       "      <td>1331380058</td>\n",
       "    </tr>\n",
       "    <tr>\n",
       "      <th>3</th>\n",
       "      <td>1.000</td>\n",
       "      <td>Apex London Wall Hotel</td>\n",
       "      <td>Ottima qualit‡ prezzo</td>\n",
       "      <td>Siamo stati a Londra per un week end ed abbiamo alloggiato in questo ottimo Hotel prenotato da a...</td>\n",
       "      <td>Casale Monferrato, Italy</td>\n",
       "      <td>10/20/2012</td>\n",
       "      <td>15</td>\n",
       "      <td>2.000</td>\n",
       "      <td>997938310</td>\n",
       "    </tr>\n",
       "    <tr>\n",
       "      <th>4</th>\n",
       "      <td>1.000</td>\n",
       "      <td>Apex London Wall Hotel</td>\n",
       "      <td>Ottima qualit‡ prezzo</td>\n",
       "      <td>Siamo stati a Londra per un week end ed abbiamo alloggiato in questo ottimo Hotel prenotato da a...</td>\n",
       "      <td>Casale Monferrato, Italy</td>\n",
       "      <td>10/20/2012</td>\n",
       "      <td>19</td>\n",
       "      <td>3.000</td>\n",
       "      <td>855190091</td>\n",
       "    </tr>\n",
       "  </tbody>\n",
       "</table>\n",
       "</div>"
      ],
      "text/plain": [
       "   Hotel_Id           Property_Name           Review_Title  \\\n",
       "0     1.000  Apex London Wall Hotel  Ottima qualit‡ prezzo   \n",
       "1     1.000  Apex London Wall Hotel  Ottima qualit‡ prezzo   \n",
       "2     1.000  Apex London Wall Hotel  Ottima qualit‡ prezzo   \n",
       "3     1.000  Apex London Wall Hotel  Ottima qualit‡ prezzo   \n",
       "4     1.000  Apex London Wall Hotel  Ottima qualit‡ prezzo   \n",
       "\n",
       "                                                                                           Review_Text  \\\n",
       "0  Siamo stati a Londra per un week end ed abbiamo alloggiato in questo ottimo Hotel prenotato da a...   \n",
       "1  Siamo stati a Londra per un week end ed abbiamo alloggiato in questo ottimo Hotel prenotato da a...   \n",
       "2  Siamo stati a Londra per un week end ed abbiamo alloggiato in questo ottimo Hotel prenotato da a...   \n",
       "3  Siamo stati a Londra per un week end ed abbiamo alloggiato in questo ottimo Hotel prenotato da a...   \n",
       "4  Siamo stati a Londra per un week end ed abbiamo alloggiato in questo ottimo Hotel prenotato da a...   \n",
       "\n",
       "  Location_of _The _Reviewer Date_Of_Review  User_Id  rating   timestamp  \n",
       "0   Casale Monferrato, Italy     10/20/2012        7   3.000   851866703  \n",
       "1   Casale Monferrato, Italy     10/20/2012        9   4.000   938629179  \n",
       "2   Casale Monferrato, Italy     10/20/2012       13   5.000  1331380058  \n",
       "3   Casale Monferrato, Italy     10/20/2012       15   2.000   997938310  \n",
       "4   Casale Monferrato, Italy     10/20/2012       19   3.000   855190091  "
      ]
     },
     "execution_count": 17,
     "metadata": {},
     "output_type": "execute_result"
    }
   ],
   "source": [
    "# For collaborative filtering, we are required to merge two datasets in single dataset in this project\n",
    "\n",
    "df = pd.merge(data, ratings, on='Hotel_Id') # From both of the data sets it merges the Hotel_Id\n",
    "df.head()"
   ]
  },
  {
   "cell_type": "code",
   "execution_count": 18,
   "id": "198aea23",
   "metadata": {},
   "outputs": [
    {
     "data": {
      "image/png": "[encoded data removed]",
      "text/plain": [
       "<Figure size 360x360 with 1 Axes>"
      ]
     },
     "metadata": {
      "needs_background": "light"
     },
     "output_type": "display_data"
    }
   ],
   "source": [
    "# sns plot of ratings\n",
    "sns.displot(df['rating']);"
   ]
  },
  {
   "cell_type": "code",
   "execution_count": 19,
   "id": "11675180",
   "metadata": {},
   "outputs": [],
   "source": [
    "# Calculate the average rating of hotels\n",
    "\n",
    "mean_rating  = df\n",
    "mean_rating = mean_rating.groupby ('Property_Name') ['rating'].mean()"
   ]
  },
  {
   "cell_type": "code",
   "execution_count": 20,
   "id": "b3540a22",
   "metadata": {},
   "outputs": [],
   "source": [
    "# Create new dataset for average (mean) rating\n",
    "new = pd.DataFrame()\n",
    "new ['mean_rating'] = mean_rating"
   ]
  },
  {
   "cell_type": "code",
   "execution_count": 21,
   "id": "968bc05f",
   "metadata": {},
   "outputs": [
    {
     "data": {
      "text/plain": [
       "Index(['mean_rating'], dtype='object')"
      ]
     },
     "execution_count": 21,
     "metadata": {},
     "output_type": "execute_result"
    }
   ],
   "source": [
    "new.columns"
   ]
  },
  {
   "cell_type": "code",
   "execution_count": 22,
   "id": "e0931f23",
   "metadata": {},
   "outputs": [
    {
     "data": {
      "text/plain": [
       "<AxesSubplot:>"
      ]
     },
     "execution_count": 22,
     "metadata": {},
     "output_type": "execute_result"
    },
    {
     "data": {
      "image/png": "[encoded data removed]",
      "text/plain": [
       "<Figure size 576x432 with 1 Axes>"
      ]
     },
     "metadata": {
      "needs_background": "light"
     },
     "output_type": "display_data"
    }
   ],
   "source": [
    "# Plot mean_rating (Average rating) graph\n",
    "\n",
    "plt.figure (figsize = (8,6))\n",
    "new['mean_rating'].hist(bins = 100)"
   ]
  },
  {
   "cell_type": "code",
   "execution_count": 23,
   "id": "873445d8",
   "metadata": {},
   "outputs": [
    {
     "data": {
      "text/plain": [
       "<AxesSubplot:xlabel='rating', ylabel='count'>"
      ]
     },
     "execution_count": 23,
     "metadata": {},
     "output_type": "execute_result"
    },
    {
     "data": {
      "image/png": "[encoded data removed]",
      "text/plain": [
       "<Figure size 576x432 with 1 Axes>"
      ]
     },
     "metadata": {},
     "output_type": "display_data"
    }
   ],
   "source": [
    "# This graph provides all the ratings \n",
    "\n",
    "Review_plot = df[[\"Property_Name\",\"rating\"]].drop_duplicates()\n",
    "sns.set(font_scale = 1)\n",
    "a4_dims = (8, 6)\n",
    "fig, ax = pyplot.subplots(figsize=a4_dims)\n",
    "sns.countplot(ax = ax,x = \"rating\",data=Review_plot)"
   ]
  },
  {
   "cell_type": "markdown",
   "id": "2a979862",
   "metadata": {},
   "source": [
    "# Collaborative Filtering using KNN Algorithm\n"
   ]
  },
  {
   "cell_type": "code",
   "execution_count": 24,
   "id": "fead1172",
   "metadata": {},
   "outputs": [
    {
     "data": {
      "text/html": [
       "<div>\n",
       "<style scoped>\n",
       "    .dataframe tbody tr th:only-of-type {\n",
       "        vertical-align: middle;\n",
       "    }\n",
       "\n",
       "    .dataframe tbody tr th {\n",
       "        vertical-align: top;\n",
       "    }\n",
       "\n",
       "    .dataframe thead th {\n",
       "        text-align: right;\n",
       "    }\n",
       "</style>\n",
       "<table border=\"1\" class=\"dataframe\">\n",
       "  <thead>\n",
       "    <tr style=\"text-align: right;\">\n",
       "      <th></th>\n",
       "      <th>Property_Name</th>\n",
       "      <th>totalRatingCount</th>\n",
       "    </tr>\n",
       "  </thead>\n",
       "  <tbody>\n",
       "    <tr>\n",
       "      <th>0</th>\n",
       "      <td>45 Park Lane - Dorchester Collection</td>\n",
       "      <td>394</td>\n",
       "    </tr>\n",
       "    <tr>\n",
       "      <th>1</th>\n",
       "      <td>A To Z Hotel</td>\n",
       "      <td>873</td>\n",
       "    </tr>\n",
       "    <tr>\n",
       "      <th>2</th>\n",
       "      <td>Apex London Wall Hotel</td>\n",
       "      <td>6354</td>\n",
       "    </tr>\n",
       "    <tr>\n",
       "      <th>3</th>\n",
       "      <td>Bulgari Hotel, London</td>\n",
       "      <td>1362</td>\n",
       "    </tr>\n",
       "    <tr>\n",
       "      <th>4</th>\n",
       "      <td>City View Hotel</td>\n",
       "      <td>17</td>\n",
       "    </tr>\n",
       "  </tbody>\n",
       "</table>\n",
       "</div>"
      ],
      "text/plain": [
       "                          Property_Name  totalRatingCount\n",
       "0  45 Park Lane - Dorchester Collection               394\n",
       "1                          A To Z Hotel               873\n",
       "2                Apex London Wall Hotel              6354\n",
       "3                 Bulgari Hotel, London              1362\n",
       "4                       City View Hotel                17"
      ]
     },
     "execution_count": 24,
     "metadata": {},
     "output_type": "execute_result"
    }
   ],
   "source": [
    "# This code provides total number of counts\n",
    "\n",
    "combine_hotel_rating = df.dropna(axis = 0, subset = ['Property_Name'])\n",
    "hotel_ratingCount = (combine_hotel_rating.\n",
    "     groupby(by = ['Property_Name'])['rating'].\n",
    "     count().\n",
    "     reset_index().\n",
    "     rename(columns = {'rating': 'totalRatingCount'})\n",
    "     [['Property_Name', 'totalRatingCount']]\n",
    "    )\n",
    "hotel_ratingCount.head()"
   ]
  },
  {
   "cell_type": "code",
   "execution_count": 25,
   "id": "ba94d648",
   "metadata": {},
   "outputs": [
    {
     "data": {
      "text/html": [
       "<div>\n",
       "<style scoped>\n",
       "    .dataframe tbody tr th:only-of-type {\n",
       "        vertical-align: middle;\n",
       "    }\n",
       "\n",
       "    .dataframe tbody tr th {\n",
       "        vertical-align: top;\n",
       "    }\n",
       "\n",
       "    .dataframe thead th {\n",
       "        text-align: right;\n",
       "    }\n",
       "</style>\n",
       "<table border=\"1\" class=\"dataframe\">\n",
       "  <thead>\n",
       "    <tr style=\"text-align: right;\">\n",
       "      <th></th>\n",
       "      <th>Hotel_Id</th>\n",
       "      <th>Property_Name</th>\n",
       "      <th>Review_Title</th>\n",
       "      <th>Review_Text</th>\n",
       "      <th>Location_of _The _Reviewer</th>\n",
       "      <th>Date_Of_Review</th>\n",
       "      <th>User_Id</th>\n",
       "      <th>rating</th>\n",
       "      <th>timestamp</th>\n",
       "      <th>totalRatingCount</th>\n",
       "    </tr>\n",
       "  </thead>\n",
       "  <tbody>\n",
       "    <tr>\n",
       "      <th>0</th>\n",
       "      <td>1.000</td>\n",
       "      <td>Apex London Wall Hotel</td>\n",
       "      <td>Ottima qualit‡ prezzo</td>\n",
       "      <td>Siamo stati a Londra per un week end ed abbiamo alloggiato in questo ottimo Hotel prenotato da a...</td>\n",
       "      <td>Casale Monferrato, Italy</td>\n",
       "      <td>10/20/2012</td>\n",
       "      <td>7</td>\n",
       "      <td>3.000</td>\n",
       "      <td>851866703</td>\n",
       "      <td>6354</td>\n",
       "    </tr>\n",
       "    <tr>\n",
       "      <th>1</th>\n",
       "      <td>1.000</td>\n",
       "      <td>Apex London Wall Hotel</td>\n",
       "      <td>Ottima qualit‡ prezzo</td>\n",
       "      <td>Siamo stati a Londra per un week end ed abbiamo alloggiato in questo ottimo Hotel prenotato da a...</td>\n",
       "      <td>Casale Monferrato, Italy</td>\n",
       "      <td>10/20/2012</td>\n",
       "      <td>9</td>\n",
       "      <td>4.000</td>\n",
       "      <td>938629179</td>\n",
       "      <td>6354</td>\n",
       "    </tr>\n",
       "    <tr>\n",
       "      <th>2</th>\n",
       "      <td>1.000</td>\n",
       "      <td>Apex London Wall Hotel</td>\n",
       "      <td>Ottima qualit‡ prezzo</td>\n",
       "      <td>Siamo stati a Londra per un week end ed abbiamo alloggiato in questo ottimo Hotel prenotato da a...</td>\n",
       "      <td>Casale Monferrato, Italy</td>\n",
       "      <td>10/20/2012</td>\n",
       "      <td>13</td>\n",
       "      <td>5.000</td>\n",
       "      <td>1331380058</td>\n",
       "      <td>6354</td>\n",
       "    </tr>\n",
       "    <tr>\n",
       "      <th>3</th>\n",
       "      <td>1.000</td>\n",
       "      <td>Apex London Wall Hotel</td>\n",
       "      <td>Ottima qualit‡ prezzo</td>\n",
       "      <td>Siamo stati a Londra per un week end ed abbiamo alloggiato in questo ottimo Hotel prenotato da a...</td>\n",
       "      <td>Casale Monferrato, Italy</td>\n",
       "      <td>10/20/2012</td>\n",
       "      <td>15</td>\n",
       "      <td>2.000</td>\n",
       "      <td>997938310</td>\n",
       "      <td>6354</td>\n",
       "    </tr>\n",
       "    <tr>\n",
       "      <th>4</th>\n",
       "      <td>1.000</td>\n",
       "      <td>Apex London Wall Hotel</td>\n",
       "      <td>Ottima qualit‡ prezzo</td>\n",
       "      <td>Siamo stati a Londra per un week end ed abbiamo alloggiato in questo ottimo Hotel prenotato da a...</td>\n",
       "      <td>Casale Monferrato, Italy</td>\n",
       "      <td>10/20/2012</td>\n",
       "      <td>19</td>\n",
       "      <td>3.000</td>\n",
       "      <td>855190091</td>\n",
       "      <td>6354</td>\n",
       "    </tr>\n",
       "  </tbody>\n",
       "</table>\n",
       "</div>"
      ],
      "text/plain": [
       "   Hotel_Id           Property_Name           Review_Title  \\\n",
       "0     1.000  Apex London Wall Hotel  Ottima qualit‡ prezzo   \n",
       "1     1.000  Apex London Wall Hotel  Ottima qualit‡ prezzo   \n",
       "2     1.000  Apex London Wall Hotel  Ottima qualit‡ prezzo   \n",
       "3     1.000  Apex London Wall Hotel  Ottima qualit‡ prezzo   \n",
       "4     1.000  Apex London Wall Hotel  Ottima qualit‡ prezzo   \n",
       "\n",
       "                                                                                           Review_Text  \\\n",
       "0  Siamo stati a Londra per un week end ed abbiamo alloggiato in questo ottimo Hotel prenotato da a...   \n",
       "1  Siamo stati a Londra per un week end ed abbiamo alloggiato in questo ottimo Hotel prenotato da a...   \n",
       "2  Siamo stati a Londra per un week end ed abbiamo alloggiato in questo ottimo Hotel prenotato da a...   \n",
       "3  Siamo stati a Londra per un week end ed abbiamo alloggiato in questo ottimo Hotel prenotato da a...   \n",
       "4  Siamo stati a Londra per un week end ed abbiamo alloggiato in questo ottimo Hotel prenotato da a...   \n",
       "\n",
       "  Location_of _The _Reviewer Date_Of_Review  User_Id  rating   timestamp  \\\n",
       "0   Casale Monferrato, Italy     10/20/2012        7   3.000   851866703   \n",
       "1   Casale Monferrato, Italy     10/20/2012        9   4.000   938629179   \n",
       "2   Casale Monferrato, Italy     10/20/2012       13   5.000  1331380058   \n",
       "3   Casale Monferrato, Italy     10/20/2012       15   2.000   997938310   \n",
       "4   Casale Monferrato, Italy     10/20/2012       19   3.000   855190091   \n",
       "\n",
       "   totalRatingCount  \n",
       "0              6354  \n",
       "1              6354  \n",
       "2              6354  \n",
       "3              6354  \n",
       "4              6354  "
      ]
     },
     "execution_count": 25,
     "metadata": {},
     "output_type": "execute_result"
    }
   ],
   "source": [
    "rating_with_totalRatingCount = combine_hotel_rating.merge(hotel_ratingCount, left_on = 'Property_Name', right_on = 'Property_Name', how = 'left')\n",
    "rating_with_totalRatingCount.head()"
   ]
  },
  {
   "cell_type": "code",
   "execution_count": 26,
   "id": "03c612aa",
   "metadata": {},
   "outputs": [
    {
     "name": "stdout",
     "output_type": "stream",
     "text": [
      "count      20.000\n",
      "mean     3620.950\n",
      "std      3944.127\n",
      "min        17.000\n",
      "25%       545.000\n",
      "50%      2066.500\n",
      "75%      5924.250\n",
      "max     13968.000\n",
      "Name: totalRatingCount, dtype: float64\n"
     ]
    }
   ],
   "source": [
    "print(hotel_ratingCount['totalRatingCount'].describe())"
   ]
  },
  {
   "cell_type": "code",
   "execution_count": 27,
   "id": "c589aa3f",
   "metadata": {},
   "outputs": [
    {
     "data": {
      "text/html": [
       "<div>\n",
       "<style scoped>\n",
       "    .dataframe tbody tr th:only-of-type {\n",
       "        vertical-align: middle;\n",
       "    }\n",
       "\n",
       "    .dataframe tbody tr th {\n",
       "        vertical-align: top;\n",
       "    }\n",
       "\n",
       "    .dataframe thead th {\n",
       "        text-align: right;\n",
       "    }\n",
       "</style>\n",
       "<table border=\"1\" class=\"dataframe\">\n",
       "  <thead>\n",
       "    <tr style=\"text-align: right;\">\n",
       "      <th></th>\n",
       "      <th>Hotel_Id</th>\n",
       "      <th>Property_Name</th>\n",
       "      <th>Review_Title</th>\n",
       "      <th>Review_Text</th>\n",
       "      <th>Location_of _The _Reviewer</th>\n",
       "      <th>Date_Of_Review</th>\n",
       "      <th>User_Id</th>\n",
       "      <th>rating</th>\n",
       "      <th>timestamp</th>\n",
       "      <th>totalRatingCount</th>\n",
       "    </tr>\n",
       "  </thead>\n",
       "  <tbody>\n",
       "    <tr>\n",
       "      <th>0</th>\n",
       "      <td>1.000</td>\n",
       "      <td>Apex London Wall Hotel</td>\n",
       "      <td>Ottima qualit‡ prezzo</td>\n",
       "      <td>Siamo stati a Londra per un week end ed abbiamo alloggiato in questo ottimo Hotel prenotato da a...</td>\n",
       "      <td>Casale Monferrato, Italy</td>\n",
       "      <td>10/20/2012</td>\n",
       "      <td>7</td>\n",
       "      <td>3.000</td>\n",
       "      <td>851866703</td>\n",
       "      <td>6354</td>\n",
       "    </tr>\n",
       "    <tr>\n",
       "      <th>1</th>\n",
       "      <td>1.000</td>\n",
       "      <td>Apex London Wall Hotel</td>\n",
       "      <td>Ottima qualit‡ prezzo</td>\n",
       "      <td>Siamo stati a Londra per un week end ed abbiamo alloggiato in questo ottimo Hotel prenotato da a...</td>\n",
       "      <td>Casale Monferrato, Italy</td>\n",
       "      <td>10/20/2012</td>\n",
       "      <td>9</td>\n",
       "      <td>4.000</td>\n",
       "      <td>938629179</td>\n",
       "      <td>6354</td>\n",
       "    </tr>\n",
       "    <tr>\n",
       "      <th>2</th>\n",
       "      <td>1.000</td>\n",
       "      <td>Apex London Wall Hotel</td>\n",
       "      <td>Ottima qualit‡ prezzo</td>\n",
       "      <td>Siamo stati a Londra per un week end ed abbiamo alloggiato in questo ottimo Hotel prenotato da a...</td>\n",
       "      <td>Casale Monferrato, Italy</td>\n",
       "      <td>10/20/2012</td>\n",
       "      <td>13</td>\n",
       "      <td>5.000</td>\n",
       "      <td>1331380058</td>\n",
       "      <td>6354</td>\n",
       "    </tr>\n",
       "    <tr>\n",
       "      <th>3</th>\n",
       "      <td>1.000</td>\n",
       "      <td>Apex London Wall Hotel</td>\n",
       "      <td>Ottima qualit‡ prezzo</td>\n",
       "      <td>Siamo stati a Londra per un week end ed abbiamo alloggiato in questo ottimo Hotel prenotato da a...</td>\n",
       "      <td>Casale Monferrato, Italy</td>\n",
       "      <td>10/20/2012</td>\n",
       "      <td>15</td>\n",
       "      <td>2.000</td>\n",
       "      <td>997938310</td>\n",
       "      <td>6354</td>\n",
       "    </tr>\n",
       "    <tr>\n",
       "      <th>4</th>\n",
       "      <td>1.000</td>\n",
       "      <td>Apex London Wall Hotel</td>\n",
       "      <td>Ottima qualit‡ prezzo</td>\n",
       "      <td>Siamo stati a Londra per un week end ed abbiamo alloggiato in questo ottimo Hotel prenotato da a...</td>\n",
       "      <td>Casale Monferrato, Italy</td>\n",
       "      <td>10/20/2012</td>\n",
       "      <td>19</td>\n",
       "      <td>3.000</td>\n",
       "      <td>855190091</td>\n",
       "      <td>6354</td>\n",
       "    </tr>\n",
       "  </tbody>\n",
       "</table>\n",
       "</div>"
      ],
      "text/plain": [
       "   Hotel_Id           Property_Name           Review_Title  \\\n",
       "0     1.000  Apex London Wall Hotel  Ottima qualit‡ prezzo   \n",
       "1     1.000  Apex London Wall Hotel  Ottima qualit‡ prezzo   \n",
       "2     1.000  Apex London Wall Hotel  Ottima qualit‡ prezzo   \n",
       "3     1.000  Apex London Wall Hotel  Ottima qualit‡ prezzo   \n",
       "4     1.000  Apex London Wall Hotel  Ottima qualit‡ prezzo   \n",
       "\n",
       "                                                                                           Review_Text  \\\n",
       "0  Siamo stati a Londra per un week end ed abbiamo alloggiato in questo ottimo Hotel prenotato da a...   \n",
       "1  Siamo stati a Londra per un week end ed abbiamo alloggiato in questo ottimo Hotel prenotato da a...   \n",
       "2  Siamo stati a Londra per un week end ed abbiamo alloggiato in questo ottimo Hotel prenotato da a...   \n",
       "3  Siamo stati a Londra per un week end ed abbiamo alloggiato in questo ottimo Hotel prenotato da a...   \n",
       "4  Siamo stati a Londra per un week end ed abbiamo alloggiato in questo ottimo Hotel prenotato da a...   \n",
       "\n",
       "  Location_of _The _Reviewer Date_Of_Review  User_Id  rating   timestamp  \\\n",
       "0   Casale Monferrato, Italy     10/20/2012        7   3.000   851866703   \n",
       "1   Casale Monferrato, Italy     10/20/2012        9   4.000   938629179   \n",
       "2   Casale Monferrato, Italy     10/20/2012       13   5.000  1331380058   \n",
       "3   Casale Monferrato, Italy     10/20/2012       15   2.000   997938310   \n",
       "4   Casale Monferrato, Italy     10/20/2012       19   3.000   855190091   \n",
       "\n",
       "   totalRatingCount  \n",
       "0              6354  \n",
       "1              6354  \n",
       "2              6354  \n",
       "3              6354  \n",
       "4              6354  "
      ]
     },
     "execution_count": 27,
     "metadata": {},
     "output_type": "execute_result"
    }
   ],
   "source": [
    "# The recommendation system works on the basis of popularity of ratings. \n",
    "# For sake of simplicity I used popularity threshold.\n",
    "# If the rating count of the hotel increases more than the popularity,\n",
    "# it will simply count that hotel as most popular hotel.\n",
    "\n",
    "popularity_threshold = 50\n",
    "rating_popular_hotels= rating_with_totalRatingCount.query('totalRatingCount >= @popularity_threshold')\n",
    "rating_popular_hotels.head()"
   ]
  },
  {
   "cell_type": "code",
   "execution_count": 28,
   "id": "c60ee01c",
   "metadata": {},
   "outputs": [
    {
     "data": {
      "text/plain": [
       "(72402, 10)"
      ]
     },
     "execution_count": 28,
     "metadata": {},
     "output_type": "execute_result"
    }
   ],
   "source": [
    "rating_popular_hotels.shape"
   ]
  },
  {
   "cell_type": "code",
   "execution_count": 29,
   "id": "ba442866",
   "metadata": {},
   "outputs": [],
   "source": [
    "# For the varification of raw echelon form, create pivot table\n",
    "\n",
    "hotel_features_df = rating_popular_hotels.pivot_table(index='Property_Name',columns='User_Id',values='rating').fillna(0)"
   ]
  },
  {
   "cell_type": "code",
   "execution_count": 30,
   "id": "6b6d9733",
   "metadata": {},
   "outputs": [],
   "source": [
    "# KNN is non paramatric lazy learning method. \n",
    "# For User Based filtering purpose, KNN is best approch in collaborative filtering\n",
    "\n",
    "hotel_features_df_matrix = csr_matrix(hotel_features_df.values)\n",
    "hotel_features_df = hotel_features_df.reset_index()"
   ]
  },
  {
   "cell_type": "code",
   "execution_count": 31,
   "id": "ffe4d800",
   "metadata": {},
   "outputs": [],
   "source": [
    "vector = hotel_features_df.drop('Property_Name', axis = 1).to_numpy()"
   ]
  },
  {
   "cell_type": "code",
   "execution_count": 32,
   "id": "7876c139",
   "metadata": {},
   "outputs": [],
   "source": [
    "from sklearn.metrics.pairwise import cosine_similarity"
   ]
  },
  {
   "cell_type": "code",
   "execution_count": 33,
   "id": "675961d7",
   "metadata": {},
   "outputs": [],
   "source": [
    "similarity = cosine_similarity(vector)"
   ]
  },
  {
   "cell_type": "code",
   "execution_count": 34,
   "id": "edc5f35f",
   "metadata": {},
   "outputs": [
    {
     "data": {
      "text/plain": [
       "array([[1.        , 0.56595318, 0.50432343, 0.54272422, 0.50743982,\n",
       "        0.51977847, 0.52174183, 0.54597278, 0.54348176, 0.51864527,\n",
       "        0.51517965, 0.49268252, 0.53851346, 0.52948112, 0.5036353 ,\n",
       "        0.52120908, 0.51188191, 0.5054735 , 0.54875409],\n",
       "       [0.56595318, 1.        , 0.70231895, 0.64446472, 0.71810599,\n",
       "        0.43662364, 0.70635322, 0.61390396, 0.68217227, 0.50301141,\n",
       "        0.7006789 , 0.59594845, 0.67860231, 0.70555761, 0.70405301,\n",
       "        0.63343959, 0.70033186, 0.71382956, 0.68754752],\n",
       "       [0.50432343, 0.70231895, 1.        , 0.80108029, 0.94881371,\n",
       "        0.39292063, 0.92141452, 0.62578879, 0.85689739, 0.49418591,\n",
       "        0.95183595, 0.61286715, 0.90515781, 0.88022063, 0.9323327 ,\n",
       "        0.75204193, 0.94380458, 0.95773499, 0.74007246],\n",
       "       [0.54272422, 0.64446472, 0.80108029, 1.        , 0.79744774,\n",
       "        0.41815661, 0.78223729, 0.6532407 , 0.77271422, 0.51373043,\n",
       "        0.80414686, 0.65137193, 0.76747667, 0.75921486, 0.78530672,\n",
       "        0.69953065, 0.79300766, 0.80376194, 0.69489198],\n",
       "       [0.50743982, 0.71810599, 0.94881371, 0.79744774, 1.        ,\n",
       "        0.38592446, 0.91163862, 0.63029354, 0.86198729, 0.5037174 ,\n",
       "        0.95673316, 0.61303934, 0.90522601, 0.88154819, 0.93934203,\n",
       "        0.75392687, 0.94404763, 0.97010719, 0.74814138],\n",
       "       [0.51977847, 0.43662364, 0.39292063, 0.41815661, 0.38592446,\n",
       "        1.        , 0.40362529, 0.45551423, 0.42776079, 0.4662878 ,\n",
       "        0.39961724, 0.39732504, 0.41066384, 0.41287078, 0.3962811 ,\n",
       "        0.4308166 , 0.40202595, 0.3851753 , 0.46330005],\n",
       "       [0.52174183, 0.70635322, 0.92141452, 0.78223729, 0.91163862,\n",
       "        0.40362529, 1.        , 0.6284481 , 0.84670097, 0.50694558,\n",
       "        0.92417231, 0.60509167, 0.87985817, 0.87046428, 0.91169052,\n",
       "        0.73907649, 0.9100324 , 0.92694345, 0.74533829],\n",
       "       [0.54597278, 0.61390396, 0.62578879, 0.6532407 , 0.63029354,\n",
       "        0.45551423, 0.6284481 , 1.        , 0.66255192, 0.49085228,\n",
       "        0.62997218, 0.54097063, 0.62778119, 0.63092296, 0.61681511,\n",
       "        0.60916043, 0.64160879, 0.62565775, 0.64439638],\n",
       "       [0.54348176, 0.68217227, 0.85689739, 0.77271422, 0.86198729,\n",
       "        0.42776079, 0.84670097, 0.66255192, 1.        , 0.52999143,\n",
       "        0.8685351 , 0.61551162, 0.85652159, 0.81246996, 0.85761389,\n",
       "        0.70970132, 0.86662067, 0.86817054, 0.71799811],\n",
       "       [0.51864527, 0.50301141, 0.49418591, 0.51373043, 0.5037174 ,\n",
       "        0.4662878 , 0.50694558, 0.49085228, 0.52999143, 1.        ,\n",
       "        0.50655366, 0.47073753, 0.51691285, 0.52104278, 0.50140851,\n",
       "        0.52931054, 0.50731404, 0.49963166, 0.50301548],\n",
       "       [0.51517965, 0.7006789 , 0.95183595, 0.80414686, 0.95673316,\n",
       "        0.39961724, 0.92417231, 0.62997218, 0.8685351 , 0.50655366,\n",
       "        1.        , 0.61555099, 0.91716986, 0.89150059, 0.94443159,\n",
       "        0.7588113 , 0.95255065, 0.97427614, 0.74889978],\n",
       "       [0.49268252, 0.59594845, 0.61286715, 0.65137193, 0.61303934,\n",
       "        0.39732504, 0.60509167, 0.54097063, 0.61551162, 0.47073753,\n",
       "        0.61555099, 1.        , 0.58499399, 0.58978667, 0.60032915,\n",
       "        0.55676439, 0.61219904, 0.60845936, 0.5670131 ],\n",
       "       [0.53851346, 0.67860231, 0.90515781, 0.76747667, 0.90522601,\n",
       "        0.41066384, 0.87985817, 0.62778119, 0.85652159, 0.51691285,\n",
       "        0.91716986, 0.58499399, 1.        , 0.87359035, 0.89362789,\n",
       "        0.75976531, 0.9050082 , 0.91745203, 0.75604008],\n",
       "       [0.52948112, 0.70555761, 0.88022063, 0.75921486, 0.88154819,\n",
       "        0.41287078, 0.87046428, 0.63092296, 0.81246996, 0.52104278,\n",
       "        0.89150059, 0.58978667, 0.87359035, 1.        , 0.88010297,\n",
       "        0.74675626, 0.87342603, 0.89383146, 0.74932066],\n",
       "       [0.5036353 , 0.70405301, 0.9323327 , 0.78530672, 0.93934203,\n",
       "        0.3962811 , 0.91169052, 0.61681511, 0.85761389, 0.50140851,\n",
       "        0.94443159, 0.60032915, 0.89362789, 0.88010297, 1.        ,\n",
       "        0.75487485, 0.93330027, 0.95502602, 0.74716402],\n",
       "       [0.52120908, 0.63343959, 0.75204193, 0.69953065, 0.75392687,\n",
       "        0.4308166 , 0.73907649, 0.60916043, 0.70970132, 0.52931054,\n",
       "        0.7588113 , 0.55676439, 0.75976531, 0.74675626, 0.75487485,\n",
       "        1.        , 0.76470827, 0.75631707, 0.69474119],\n",
       "       [0.51188191, 0.70033186, 0.94380458, 0.79300766, 0.94404763,\n",
       "        0.40202595, 0.9100324 , 0.64160879, 0.86662067, 0.50731404,\n",
       "        0.95255065, 0.61219904, 0.9050082 , 0.87342603, 0.93330027,\n",
       "        0.76470827, 1.        , 0.95880825, 0.75194925],\n",
       "       [0.5054735 , 0.71382956, 0.95773499, 0.80376194, 0.97010719,\n",
       "        0.3851753 , 0.92694345, 0.62565775, 0.86817054, 0.49963166,\n",
       "        0.97427614, 0.60845936, 0.91745203, 0.89383146, 0.95502602,\n",
       "        0.75631707, 0.95880825, 1.        , 0.73845098],\n",
       "       [0.54875409, 0.68754752, 0.74007246, 0.69489198, 0.74814138,\n",
       "        0.46330005, 0.74533829, 0.64439638, 0.71799811, 0.50301548,\n",
       "        0.74889978, 0.5670131 , 0.75604008, 0.74932066, 0.74716402,\n",
       "        0.69474119, 0.75194925, 0.73845098, 1.        ]])"
      ]
     },
     "execution_count": 34,
     "metadata": {},
     "output_type": "execute_result"
    }
   ],
   "source": [
    "similarity"
   ]
  },
  {
   "cell_type": "code",
   "execution_count": 35,
   "id": "908fa3a3",
   "metadata": {},
   "outputs": [],
   "source": [
    "def recommend(hotel):\n",
    "    index = hotel_features_df[hotel_features_df['Property_Name'] == hotel].index[0]\n",
    "    distances = sorted(list(enumerate(similarity[index])),reverse=True,key = lambda x: x[1])\n",
    "    \n",
    "    recommended_list = []\n",
    "    \n",
    "    for i in distances[1:6]:\n",
    "        recommended_list.append(hotel_features_df.iloc[i[0]]['Property_Name'])\n",
    "    \n",
    "        \n",
    "    recommended_df = pd.DataFrame(recommended_list)\n",
    "    recommended_df.columns = ['Top 5 Recommended Hotels']\n",
    "    return recommended_df"
   ]
  },
  {
   "cell_type": "code",
   "execution_count": 36,
   "id": "240a6ebe",
   "metadata": {},
   "outputs": [
    {
     "data": {
      "text/html": [
       "<div>\n",
       "<style scoped>\n",
       "    .dataframe tbody tr th:only-of-type {\n",
       "        vertical-align: middle;\n",
       "    }\n",
       "\n",
       "    .dataframe tbody tr th {\n",
       "        vertical-align: top;\n",
       "    }\n",
       "\n",
       "    .dataframe thead th {\n",
       "        text-align: right;\n",
       "    }\n",
       "</style>\n",
       "<table border=\"1\" class=\"dataframe\">\n",
       "  <thead>\n",
       "    <tr style=\"text-align: right;\">\n",
       "      <th></th>\n",
       "      <th>Top 5 Recommended Hotels</th>\n",
       "    </tr>\n",
       "  </thead>\n",
       "  <tbody>\n",
       "    <tr>\n",
       "      <th>0</th>\n",
       "      <td>The Savoy</td>\n",
       "    </tr>\n",
       "    <tr>\n",
       "      <th>1</th>\n",
       "      <td>Mondrian London at Sea Containers</td>\n",
       "    </tr>\n",
       "    <tr>\n",
       "      <th>2</th>\n",
       "      <td>Corinthia Hotel London</td>\n",
       "    </tr>\n",
       "    <tr>\n",
       "      <th>3</th>\n",
       "      <td>The Rembrandt</td>\n",
       "    </tr>\n",
       "    <tr>\n",
       "      <th>4</th>\n",
       "      <td>The Dorchester</td>\n",
       "    </tr>\n",
       "  </tbody>\n",
       "</table>\n",
       "</div>"
      ],
      "text/plain": [
       "            Top 5 Recommended Hotels\n",
       "0                          The Savoy\n",
       "1  Mondrian London at Sea Containers\n",
       "2             Corinthia Hotel London\n",
       "3                      The Rembrandt\n",
       "4                     The Dorchester"
      ]
     },
     "execution_count": 36,
     "metadata": {},
     "output_type": "execute_result"
    }
   ],
   "source": [
    "index = hotel_features_df[hotel_features_df['Property_Name'] == 'Apex London Wall Hotel'].index[0]\n",
    "distances = sorted(list(enumerate(similarity[index])),reverse=True,key = lambda x: x[1])\n",
    "\n",
    "recommended_list = []\n",
    "\n",
    "for i in distances[1:6]:\n",
    "    recommended_list.append(hotel_features_df.iloc[i[0]].Property_Name)\n",
    "    \n",
    "recommended_df = pd.DataFrame(recommended_list)\n",
    "recommended_df.columns = ['Top 5 Recommended Hotels']\n",
    "recommended_df"
   ]
  },
  {
   "cell_type": "code",
   "execution_count": 37,
   "id": "324b191b",
   "metadata": {},
   "outputs": [
    {
     "data": {
      "text/html": [
       "<div>\n",
       "<style scoped>\n",
       "    .dataframe tbody tr th:only-of-type {\n",
       "        vertical-align: middle;\n",
       "    }\n",
       "\n",
       "    .dataframe tbody tr th {\n",
       "        vertical-align: top;\n",
       "    }\n",
       "\n",
       "    .dataframe thead th {\n",
       "        text-align: right;\n",
       "    }\n",
       "</style>\n",
       "<table border=\"1\" class=\"dataframe\">\n",
       "  <thead>\n",
       "    <tr style=\"text-align: right;\">\n",
       "      <th></th>\n",
       "      <th>Top 5 Recommended Hotels</th>\n",
       "    </tr>\n",
       "  </thead>\n",
       "  <tbody>\n",
       "    <tr>\n",
       "      <th>0</th>\n",
       "      <td>The Savoy</td>\n",
       "    </tr>\n",
       "    <tr>\n",
       "      <th>1</th>\n",
       "      <td>Mondrian London at Sea Containers</td>\n",
       "    </tr>\n",
       "    <tr>\n",
       "      <th>2</th>\n",
       "      <td>Corinthia Hotel London</td>\n",
       "    </tr>\n",
       "    <tr>\n",
       "      <th>3</th>\n",
       "      <td>The Rembrandt</td>\n",
       "    </tr>\n",
       "    <tr>\n",
       "      <th>4</th>\n",
       "      <td>The Dorchester</td>\n",
       "    </tr>\n",
       "  </tbody>\n",
       "</table>\n",
       "</div>"
      ],
      "text/plain": [
       "            Top 5 Recommended Hotels\n",
       "0                          The Savoy\n",
       "1  Mondrian London at Sea Containers\n",
       "2             Corinthia Hotel London\n",
       "3                      The Rembrandt\n",
       "4                     The Dorchester"
      ]
     },
     "execution_count": 37,
     "metadata": {},
     "output_type": "execute_result"
    }
   ],
   "source": [
    "recommend('Apex London Wall Hotel')"
   ]
  },
  {
   "cell_type": "code",
   "execution_count": 38,
   "id": "232c5666",
   "metadata": {},
   "outputs": [],
   "source": [
    "pickle.dump(hotel_features_df,open('hotels.pkl','wb'))"
   ]
  },
  {
   "cell_type": "code",
   "execution_count": 39,
   "id": "5a7f456c",
   "metadata": {},
   "outputs": [
    {
     "data": {
      "text/plain": [
       "array(['45 Park Lane - Dorchester Collection', 'A To Z Hotel',\n",
       "       'Apex London Wall Hotel', 'Bulgari Hotel, London',\n",
       "       'Corinthia Hotel London', 'Hartley Hotel',\n",
       "       'Hotel Xenia, Autograph Collection', 'London Guest House',\n",
       "       'Mandarin Oriental Hyde Park, London', 'Marble Arch Hotel',\n",
       "       'Mondrian London at Sea Containers', 'Newham Hotel',\n",
       "       'Rhodes Hotel', 'Ridgemount Hotel', 'The Dorchester',\n",
       "       'The Lanesborough', 'The Rembrandt', 'The Savoy',\n",
       "       'The Wellesley Knightsbridge, a Luxury Collection Hotel, London'],\n",
       "      dtype=object)"
      ]
     },
     "execution_count": 39,
     "metadata": {},
     "output_type": "execute_result"
    }
   ],
   "source": [
    "hotel_features_df['Property_Name'].values"
   ]
  },
  {
   "cell_type": "code",
   "execution_count": 40,
   "id": "f9616ee0",
   "metadata": {},
   "outputs": [],
   "source": [
    "pickle.dump(hotel_features_df.to_dict(),open('hotel_dict.pkl','wb'))"
   ]
  },
  {
   "cell_type": "code",
   "execution_count": 41,
   "id": "e4bba0ed",
   "metadata": {},
   "outputs": [],
   "source": [
    "pickle.dump(similarity,open('similarity.pkl','wb'))"
   ]
  },
  {
   "cell_type": "code",
   "execution_count": null,
   "id": "279978e5",
   "metadata": {},
   "outputs": [],
   "source": []
  }
 ],
 "metadata": {
  "kernelspec": {
   "display_name": "Python 3",
   "language": "python",
   "name": "python3"
  },
  "language_info": {
   "codemirror_mode": {
    "name": "ipython",
    "version": 3
   },
   "file_extension": ".py",
   "mimetype": "text/x-python",
   "name": "python",
   "nbconvert_exporter": "python",
   "pygments_lexer": "ipython3",
   "version": "3.8.8"
  }
 },
 "nbformat": 4,
 "nbformat_minor": 5
}
